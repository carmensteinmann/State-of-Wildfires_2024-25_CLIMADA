{
 "cells": [
  {
   "cell_type": "code",
   "execution_count": 1,
   "id": "290499c8-9dd2-4d80-8b3b-d30cf6f94dc3",
   "metadata": {},
   "outputs": [],
   "source": [
    "import pandas as pd\n",
    "from pathlib import Path\n",
    "\n",
    "from climada.hazard import Hazard\n",
    "from climada.engine import ImpactCalc\n",
    "from climada.entity.exposures.litpop import LitPop\n",
    "\n",
    "import aggr_functions as fct\n",
    "\n",
    "DATA_PATH = Path('/cluster/work/climate/carmenst/Data/Wildfires')\n",
    "\n",
    "dir_reg_layer = Path(dir_data+'/0_REGIONAL_LAYERS')"
   ]
  },
  {
   "cell_type": "code",
   "execution_count": 2,
   "id": "5a68b6fd-883b-46ac-89b1-99352482933d",
   "metadata": {},
   "outputs": [
    {
     "data": {
      "text/plain": [
       "<climada.hazard.base.Hazard at 0x14895cbd6b50>"
      ]
     },
     "execution_count": 2,
     "metadata": {},
     "output_type": "execute_result"
    }
   ],
   "source": [
    "haz_file = DATA_PATH+'/Hazard/150arcsec_seasonal_global_wf_2002-2025.hdf'\n",
    "haz_wf = Hazard.from_hdf5(haz_file)\n",
    "years = haz_wf.event_name\n",
    "haz_wf"
   ]
  },
  {
   "cell_type": "code",
   "execution_count": 2,
   "id": "94013ba2-9327-4ec8-ab1f-f40534fc3d27",
   "metadata": {},
   "outputs": [],
   "source": [
    "from climada.util.api_client import Client\n",
    "client = Client()\n",
    "exp_pop = client.get_litpop(None, (0,1))\n",
    "exp_pc = client.get_litpop(None)"
   ]
  },
  {
   "cell_type": "code",
   "execution_count": 3,
   "id": "b924fcb7-4480-4acb-b74f-b5e235fea100",
   "metadata": {},
   "outputs": [
    {
     "data": {
      "text/plain": [
       "[PosixPath('/cluster/work/climate/carmenst/StateOfWF/data/Exposure/LitPop_150arcsec_global_remapped.hdf5'),\n",
       " PosixPath('/cluster/work/climate/carmenst/StateOfWF/data/Exposure/LitPop_pop_150arcsec_remapped.hdf5')]"
      ]
     },
     "execution_count": 3,
     "metadata": {},
     "output_type": "execute_result"
    }
   ],
   "source": [
    "exposure_dir = Path(dir_data+'/Exposure')\n",
    "exp_files = list(exposure_dir.glob(\"*.hdf5\")) \n",
    "exp_files"
   ]
  },
  {
   "cell_type": "code",
   "execution_count": 4,
   "id": "d461a668-c970-4695-9f6a-7e41d31f10bc",
   "metadata": {},
   "outputs": [],
   "source": [
    "impf_set = fct.linear_impf()"
   ]
  },
  {
   "cell_type": "code",
   "execution_count": 5,
   "id": "e9615870-ccc8-4e9b-a6a9-c2cd920a1d01",
   "metadata": {},
   "outputs": [
    {
     "name": "stdout",
     "output_type": "stream",
     "text": [
      "pc-2018\n",
      "Continental_Biomes\n",
      "/cluster/work/climate/carmenst/StateOfWF/data/0_REGIONAL_LAYERS/Continental_Biomes/wwf_terr_ecos_dissolved_to_continental_biomes.shp\n",
      "GFED_regions\n",
      "/cluster/work/climate/carmenst/StateOfWF/data/0_REGIONAL_LAYERS/GFED_regions/GFED_basis_regions.shp\n",
      "Ecoregions\n",
      "/cluster/work/climate/carmenst/StateOfWF/data/0_REGIONAL_LAYERS/Ecoregions/wwf_terr_ecos.shp\n",
      "GADM_UCDavis_L1\n",
      "/cluster/work/climate/carmenst/StateOfWF/data/0_REGIONAL_LAYERS/GADM_UCDavis_L1/GADML1.shp\n",
      "Continents\n",
      "/cluster/work/climate/carmenst/StateOfWF/data/0_REGIONAL_LAYERS/Continents/World_Continents.shp\n",
      "IPCC_WGI_regions\n",
      "/cluster/work/climate/carmenst/StateOfWF/data/0_REGIONAL_LAYERS/IPCC_WGI_regions/IPCC-WGI-reference-regions-v4_land_SOW.shp\n",
      "Biomes\n",
      "/cluster/work/climate/carmenst/StateOfWF/data/0_REGIONAL_LAYERS/Biomes/wwf_terr_ecos_dissolved_to_biomes.shp\n",
      "Countries\n",
      "/cluster/work/climate/carmenst/StateOfWF/data/0_REGIONAL_LAYERS/Countries/GCP_Country_Domains_v1.6_ed.shp\n",
      "RECCAP2_SHP\n",
      "/cluster/work/climate/carmenst/StateOfWF/data/0_REGIONAL_LAYERS/RECCAP2_SHP/RECCAP2_Mask11r_005deg.shp\n",
      "pop-2018\n",
      "Continental_Biomes\n",
      "/cluster/work/climate/carmenst/StateOfWF/data/0_REGIONAL_LAYERS/Continental_Biomes/wwf_terr_ecos_dissolved_to_continental_biomes.shp\n",
      "GFED_regions\n",
      "/cluster/work/climate/carmenst/StateOfWF/data/0_REGIONAL_LAYERS/GFED_regions/GFED_basis_regions.shp\n",
      "Ecoregions\n",
      "/cluster/work/climate/carmenst/StateOfWF/data/0_REGIONAL_LAYERS/Ecoregions/wwf_terr_ecos.shp\n",
      "GADM_UCDavis_L1\n",
      "/cluster/work/climate/carmenst/StateOfWF/data/0_REGIONAL_LAYERS/GADM_UCDavis_L1/GADML1.shp\n",
      "Continents\n",
      "/cluster/work/climate/carmenst/StateOfWF/data/0_REGIONAL_LAYERS/Continents/World_Continents.shp\n",
      "IPCC_WGI_regions\n",
      "/cluster/work/climate/carmenst/StateOfWF/data/0_REGIONAL_LAYERS/IPCC_WGI_regions/IPCC-WGI-reference-regions-v4_land_SOW.shp\n",
      "Biomes\n",
      "/cluster/work/climate/carmenst/StateOfWF/data/0_REGIONAL_LAYERS/Biomes/wwf_terr_ecos_dissolved_to_biomes.shp\n",
      "Countries\n",
      "/cluster/work/climate/carmenst/StateOfWF/data/0_REGIONAL_LAYERS/Countries/GCP_Country_Domains_v1.6_ed.shp\n",
      "RECCAP2_SHP\n",
      "/cluster/work/climate/carmenst/StateOfWF/data/0_REGIONAL_LAYERS/RECCAP2_SHP/RECCAP2_Mask11r_005deg.shp\n"
     ]
    }
   ],
   "source": [
    "for exposure_file in exp_files:\n",
    "    \n",
    "    exposure = LitPop.from_hdf5(exposure_file)\n",
    "    exp_name =  exposure.fin_mode +'-'+ str(exposure.ref_year)\n",
    "    print(exp_name)\n",
    "    impact = ImpactCalc(exposure, impf_set, haz_wf).impact(save_mat=True) \n",
    "    \n",
    "    \n",
    "    # REGIONAL AGGREGATION\n",
    "    #fct.wrap_reg_aggr(dir_reg_layer, impact, years, dir_data, exp_name)\n",
    "    fct.wrap_reg_aggr(dir_reg_layer, haz_wf, impact, dir_data, exp_name)\n",
    "    \n",
    "    # GLOBAL AGGREGATION\n",
    "    region_layer = 'global'\n",
    "    output_file_name = dir_data+f'/Results/{exp_name}/seasonal_impacts_{exp_name}_{region_layer}.csv'\n",
    "    output_file_path = Path(output_file_name)\n",
    "    # Skip if file already exists\n",
    "    if output_file_path.exists():\n",
    "        print(f\"Skipping {region_layer} — output file already exists.\")\n",
    "        continue\n",
    "    df_global = fct.global_df(impact, years)\n",
    "    df_global.to_csv(output_file_name, index=False)"
   ]
  },
  {
   "cell_type": "code",
   "execution_count": null,
   "id": "6ad5e4f5-8c68-4749-a6c1-974333d5fa23",
   "metadata": {},
   "outputs": [],
   "source": []
  }
 ],
 "metadata": {
  "kernelspec": {
   "display_name": "climada_env",
   "language": "python",
   "name": "climada_env"
  },
  "language_info": {
   "codemirror_mode": {
    "name": "ipython",
    "version": 3
   },
   "file_extension": ".py",
   "mimetype": "text/x-python",
   "name": "python",
   "nbconvert_exporter": "python",
   "pygments_lexer": "ipython3",
   "version": "3.11.6"
  }
 },
 "nbformat": 4,
 "nbformat_minor": 5
}
